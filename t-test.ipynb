{
 "cells": [
  {
   "cell_type": "markdown",
   "metadata": {},
   "source": [
    "# T-test\n",
    "\n",
    "Replication in python of the t-test tutorial from UC Business Analytics R Programming Guide, \n",
    "\n",
    "[Tutorial Link](https://uc-r.github.io/t_test)\n",
    "\n",
    "Datasets used wihin the tutorial:\n",
    "\n",
    "1. [Midwest Dataset](https://vincentarelbundock.github.io/Rdatasets/doc/ggplot2/midwest.html) : Demographic information of midwest counties\n",
    "\n",
    "2. [Student's Sleep Data](https://vincentarelbundock.github.io/Rdatasets/doc/datasets/sleep.html) : Dataset which show the effect of two soporific drugs (increase in hours of sleep compared to control) on 10 patients."
   ]
  },
  {
   "cell_type": "code",
   "execution_count": 1,
   "metadata": {},
   "outputs": [],
   "source": [
    "import pandas as pd\n",
    "import matplotlib.pyplot as plt\n",
    "import scipy.stats as stats\n",
    "import numpy as np\n",
    "\n",
    "df_sleep = pd.read_csv(\"https://vincentarelbundock.github.io/Rdatasets/csv/datasets/sleep.csv\")\n",
    "df_midwest = pd.read_csv(\"https://vincentarelbundock.github.io/Rdatasets/csv/ggplot2/midwest.csv\")"
   ]
  },
  {
   "cell_type": "markdown",
   "metadata": {},
   "source": [
    "## One Sample t-test\n",
    "\n",
    "\"The One Sample t-test determines whether the sample mean is statistically different from a known or hypothesized population mean.\" - [One Samplet t-test](https://libguides.library.kent.edu/SPSS/OneSampletTest)\n",
    "\n",
    "In the tutorial using the midwest dataset, the percentage of college educated adults in the midwest is compared to the nation-wide average of college educated adults.\n",
    "\n",
    "In particular it is tested if the midwest average is less than the national average with a value of [32% (Bachelor's degree or higher)](https://en.wikipedia.org/wiki/Educational_attainment_in_the_United_States) . "
   ]
  },
  {
   "cell_type": "code",
   "execution_count": 2,
   "metadata": {},
   "outputs": [
    {
     "data": {
      "text/plain": [
       "count    437.000000\n",
       "mean      18.272736\n",
       "std        6.261908\n",
       "min        7.336108\n",
       "25%       14.113725\n",
       "50%       16.797562\n",
       "75%       20.549893\n",
       "max       48.078510\n",
       "Name: percollege, dtype: float64"
      ]
     },
     "execution_count": 2,
     "metadata": {},
     "output_type": "execute_result"
    }
   ],
   "source": [
    "# summary of percent college educated\n",
    "df_midwest[\"percollege\"].describe()"
   ]
  },
  {
   "cell_type": "markdown",
   "metadata": {},
   "source": [
    "From the dataset the average precentage of educated adults in the midwest is 18.27%"
   ]
  },
  {
   "cell_type": "code",
   "execution_count": 3,
   "metadata": {
    "scrolled": true
   },
   "outputs": [
    {
     "data": {
      "image/png": "[encoded data removed]",
      "text/plain": [
       "<Figure size 432x288 with 1 Axes>"
      ]
     },
     "metadata": {
      "needs_background": "light"
     },
     "output_type": "display_data"
    }
   ],
   "source": [
    "# histogram plot\n",
    "plt.hist(x=df_midwest[\"percollege\"], bins=25, facecolor='blue', ec=\"black\");\n",
    "plt.ylabel(\"counts\")\n",
    "plt.xlabel(\"percollege\");"
   ]
  },
  {
   "cell_type": "markdown",
   "metadata": {},
   "source": [
    "The histogram reflects the values displayed in the summary above and clearly shows that the percentage of educated adults is well below the 32% national average."
   ]
  },
  {
   "cell_type": "code",
   "execution_count": 4,
   "metadata": {},
   "outputs": [
    {
     "data": {
      "text/plain": [
       "Ttest_1sampResult(statistic=-45.82664051914215, pvalue=8.379166816954861e-169)"
      ]
     },
     "execution_count": 4,
     "metadata": {},
     "output_type": "execute_result"
    }
   ],
   "source": [
    "# perform one sample t-test\n",
    "stats.ttest_1samp(a=df_midwest[\"percollege\"], popmean=32)"
   ]
  },
  {
   "cell_type": "markdown",
   "metadata": {},
   "source": [
    "The one sample t-test performed above gives,\n",
    "\n",
    "t-statistic = 45.827\n",
    "\n",
    "p-value < 0.001"
   ]
  },
  {
   "cell_type": "markdown",
   "metadata": {},
   "source": [
    "### Interpretation of the results\n",
    "\n",
    "The two hypothesis for the one sample t-test\n",
    "\n",
    "Null Hypothesis - **H0: µ = 32** (the sample mean equals the national mean)\n",
    "\n",
    "Alternative Hypothesis - **Ha: µ < 32** (the sample mean is less than the national mean)\n",
    "\n",
    "*p-value* of the test is much less than the 0.05 cutoff value for determining statistical significance, which corresponds to less than 5% chance of obtaining a result where the mean value of the sample is equal to the national average value.\n",
    "\n",
    "**Note:** \n",
    "The one sample t-test makes several assumptions and one in particular is that the data should be approximately normally distributed. Inspection of the histogram shows that the data is not normally distributed or perfectly symmetric but the shape is reasonably bell-shaped and I believe the assumption reasonable as real-world data are almost never perfectly normal. "
   ]
  },
  {
   "cell_type": "markdown",
   "metadata": {},
   "source": [
    "## Two-sample t-test\n",
    "\n",
    "\"The two-sample t-test is used to determine if two population means are equal\" - [Engineering Statistics Handbook](https://www.itl.nist.gov/div898/handbook/eda/section3/eda353.htm)\n",
    "\n",
    "In the tutorial, the differences between the average percent of college educated adults in Ohio versus Michigan is compared using two-sample t-test."
   ]
  },
  {
   "cell_type": "code",
   "execution_count": 5,
   "metadata": {},
   "outputs": [
    {
     "name": "stdout",
     "output_type": "stream",
     "text": [
      "count    88.000000\n",
      "mean     16.890448\n",
      "std       5.824758\n",
      "min       7.913256\n",
      "25%      13.088788\n",
      "50%      15.461650\n",
      "75%      18.994622\n",
      "max      32.204593\n",
      "Name: percollege, dtype: float64\n"
     ]
    }
   ],
   "source": [
    "# percentages of educated adults for the state of Ohino\n",
    "OH = df_midwest[\"percollege\"][df_midwest[\"state\"] == \"OH\"]\n",
    "\n",
    "# summary of the state of Ohino percentage of educated adults\n",
    "print(OH.describe())"
   ]
  },
  {
   "cell_type": "markdown",
   "metadata": {},
   "source": [
    "From the dataset the average precentage of educated adults in the state of Ohino is 16.89%"
   ]
  },
  {
   "cell_type": "code",
   "execution_count": 6,
   "metadata": {},
   "outputs": [
    {
     "name": "stdout",
     "output_type": "stream",
     "text": [
      "count    83.000000\n",
      "mean     19.421456\n",
      "std       6.851103\n",
      "min      11.313438\n",
      "25%      14.611892\n",
      "50%      17.429610\n",
      "75%      21.313320\n",
      "max      48.078510\n",
      "Name: percollege, dtype: float64\n"
     ]
    }
   ],
   "source": [
    "# percentages of educated adults for the state of Michigan\n",
    "MI = df_midwest[\"percollege\"][df_midwest[\"state\"] == \"MI\"]\n",
    "\n",
    "# summary of the state of Michigan percentage of educated adults\n",
    "print(MI.describe())"
   ]
  },
  {
   "cell_type": "markdown",
   "metadata": {},
   "source": [
    "From the dataset the average precentage of educated adults in the state of Michigan is 19.42%\n",
    "\n",
    "The mean value for the state of Michigan is slightly larger than the mean for the state of Ohino\n",
    "\n",
    "Note: there are more counts in the Ohino data then there are in the Michigan data."
   ]
  },
  {
   "cell_type": "code",
   "execution_count": 7,
   "metadata": {},
   "outputs": [
    {
     "data": {
      "image/png": "[encoded data removed]",
      "text/plain": [
       "<Figure size 432x288 with 2 Axes>"
      ]
     },
     "metadata": {
      "needs_background": "light"
     },
     "output_type": "display_data"
    }
   ],
   "source": [
    "# histogram plot\n",
    "fig, ((ax1, ax2)) = plt.subplots(1, 2, sharey=True)\n",
    "fig.suptitle(\"Ohino & Michigan Percentages of Educated Adults\")\n",
    "ax1.hist(x=OH, bins=25, facecolor='green', ec=\"black\");\n",
    "ax2.hist(x=MI, bins=25, facecolor='red', ec=\"black\");\n",
    "ax1.set(ylabel=\"count\");"
   ]
  },
  {
   "cell_type": "markdown",
   "metadata": {},
   "source": [
    "From the histogram it is difficult to distinguish or identify the exact difference in means between the two states."
   ]
  },
  {
   "cell_type": "code",
   "execution_count": 8,
   "metadata": {},
   "outputs": [
    {
     "name": "stdout",
     "output_type": "stream",
     "text": [
      "33.542259069907566 46.37210006335986\n",
      "1.3824978206361356 < 4 population variances are equal\n"
     ]
    }
   ],
   "source": [
    "#find variance for each group\n",
    "var_OH = np.var(OH)\n",
    "var_MI = np.var(MI)\n",
    "\n",
    "print(var_OH, var_MI)\n",
    "\n",
    "# check if two groups have equal variances\n",
    "if (var_MI / var_OH) < 4:\n",
    "    print(var_MI / var_OH, \"< 4 population variances are equal\")\n",
    "else:\n",
    "    print(var_MI / var_OH, \"> 4 population variances are not equal\")"
   ]
  },
  {
   "cell_type": "code",
   "execution_count": 9,
   "metadata": {
    "scrolled": true
   },
   "outputs": [
    {
     "data": {
      "text/plain": [
       "Ttest_indResult(statistic=-2.60762654763255, pvalue=0.009933096837482136)"
      ]
     },
     "execution_count": 9,
     "metadata": {},
     "output_type": "execute_result"
    }
   ],
   "source": [
    "# perform two sample t-test on the two independent samples\n",
    "stats.ttest_ind(OH, MI, equal_var=True)"
   ]
  },
  {
   "cell_type": "markdown",
   "metadata": {},
   "source": [
    "The two sample t-test performed above gives,\n",
    "\n",
    "t-statistic = -2.608\n",
    "\n",
    "p-value = 0.0099"
   ]
  },
  {
   "cell_type": "markdown",
   "metadata": {},
   "source": [
    "### Interpretation of the results\n",
    "\n",
    "The two hypothesis for the two sample t-test\n",
    "\n",
    "Null Hypothesis - **H0: µ1 = µ2** (the two sample means are equal)\n",
    "\n",
    "Alternative Hypothesis - **Ha: µ1 ≠ µ2** (the two sample means are not equal)\n",
    "\n",
    "Similar to the one sample t-test the p-value is less than the cut off value of 0.05,therefore the null hypothesis can be rejected, there is less than 5% probability that the means of the two samples are equal. "
   ]
  },
  {
   "cell_type": "markdown",
   "metadata": {},
   "source": [
    "## Paired t-test\n",
    "\n",
    "\"A paired t-test is used when we are interested in the difference between two variables for the same subject\" - [Boston Unversity's School of Public Health](https://sphweb.bumc.bu.edu/otlt/mph-modules/bs/sas/sas4-onesamplettest/SAS4-OneSampleTtest7.html#:~:text=A%20paired%20t%2Dtest%20is,in%201962%20for%20each%20subject.)\n",
    "\n",
    "In the tutorial using the student sleep dataset, the mean increase in hours of sleep is compared between 2 different soporific drugs that were given to a group of 10 students. \n",
    "\n",
    "Because the effects of both drugs on each student is observed, it is possible to analyse this data using a paired t-test to compare the means."
   ]
  },
  {
   "cell_type": "code",
   "execution_count": 16,
   "metadata": {},
   "outputs": [
    {
     "data": {
      "text/plain": [
       "count    10.00000\n",
       "mean      0.75000\n",
       "std       1.78901\n",
       "min      -1.60000\n",
       "25%      -0.17500\n",
       "50%       0.35000\n",
       "75%       1.70000\n",
       "max       3.70000\n",
       "Name: extra, dtype: float64"
      ]
     },
     "execution_count": 16,
     "metadata": {},
     "output_type": "execute_result"
    }
   ],
   "source": [
    "# extra hours of sleep for group 1\n",
    "group1 = df_sleep[\"extra\"][df_sleep[\"group\"] == 1]\n",
    "# summary\n",
    "group1.describe()"
   ]
  },
  {
   "cell_type": "markdown",
   "metadata": {},
   "source": [
    "The mean extra hours of sleep for drug 1 is 0.75 hours."
   ]
  },
  {
   "cell_type": "code",
   "execution_count": 22,
   "metadata": {
    "scrolled": true
   },
   "outputs": [
    {
     "data": {
      "text/plain": [
       "count    10.000000\n",
       "mean      2.330000\n",
       "std       2.002249\n",
       "min      -0.100000\n",
       "25%       0.875000\n",
       "50%       1.750000\n",
       "75%       4.150000\n",
       "max       5.500000\n",
       "Name: extra, dtype: float64"
      ]
     },
     "execution_count": 22,
     "metadata": {},
     "output_type": "execute_result"
    }
   ],
   "source": [
    "# extra hours of sleep for group 1\n",
    "group2 = df_sleep[\"extra\"][df_sleep[\"group\"] == 2]\n",
    "# summary\n",
    "group2.describe()"
   ]
  },
  {
   "cell_type": "markdown",
   "metadata": {},
   "source": [
    "The mean extra hours of sleep for drug 2 is 2.33 hours.\n",
    "\n",
    "The difference in mean extra hours of sleep between drug 1 & drug 2 is 1.58 hours. "
   ]
  },
  {
   "cell_type": "code",
   "execution_count": 41,
   "metadata": {
    "scrolled": true
   },
   "outputs": [
    {
     "data": {
      "image/png": "[encoded data removed]",
      "text/plain": [
       "<Figure size 432x288 with 2 Axes>"
      ]
     },
     "metadata": {
      "needs_background": "light"
     },
     "output_type": "display_data"
    }
   ],
   "source": [
    "# box plots for extra hours of group 1 & group 2 \n",
    "fig, ((ax1, ax2)) = plt.subplots(1, 2, sharey=True);\n",
    "ax1.boxplot(group1);\n",
    "ax1.set_xlabel(\"Group 1\");\n",
    "ax1.set_ylabel(\"Extra Hours\");\n",
    "ax2.boxplot(group2);\n",
    "ax2.set_xlabel(\"Group 2\");"
   ]
  },
  {
   "cell_type": "markdown",
   "metadata": {},
   "source": [
    "From the box plots it would appear that the students under drug 2 gained more extra hours of sleep than under drug 1, the range of extra hours of sleep is larger."
   ]
  },
  {
   "cell_type": "code",
   "execution_count": 42,
   "metadata": {},
   "outputs": [
    {
     "data": {
      "text/plain": [
       "Ttest_relResult(statistic=-4.062127683382037, pvalue=0.00283289019738427)"
      ]
     },
     "execution_count": 42,
     "metadata": {},
     "output_type": "execute_result"
    }
   ],
   "source": [
    "# perform a paired t-test\n",
    "stats.ttest_rel(group1, group2)"
   ]
  },
  {
   "cell_type": "code",
   "execution_count": 43,
   "metadata": {},
   "outputs": [
    {
     "data": {
      "text/html": [
       "<div>\n",
       "<style scoped>\n",
       "    .dataframe tbody tr th:only-of-type {\n",
       "        vertical-align: middle;\n",
       "    }\n",
       "\n",
       "    .dataframe tbody tr th {\n",
       "        vertical-align: top;\n",
       "    }\n",
       "\n",
       "    .dataframe thead th {\n",
       "        text-align: right;\n",
       "    }\n",
       "</style>\n",
       "<table border=\"1\" class=\"dataframe\">\n",
       "  <thead>\n",
       "    <tr style=\"text-align: right;\">\n",
       "      <th></th>\n",
       "      <th>Unnamed: 0</th>\n",
       "      <th>extra</th>\n",
       "      <th>group</th>\n",
       "      <th>ID</th>\n",
       "    </tr>\n",
       "  </thead>\n",
       "  <tbody>\n",
       "    <tr>\n",
       "      <th>0</th>\n",
       "      <td>1</td>\n",
       "      <td>0.7</td>\n",
       "      <td>1</td>\n",
       "      <td>1</td>\n",
       "    </tr>\n",
       "    <tr>\n",
       "      <th>1</th>\n",
       "      <td>2</td>\n",
       "      <td>-1.6</td>\n",
       "      <td>1</td>\n",
       "      <td>2</td>\n",
       "    </tr>\n",
       "    <tr>\n",
       "      <th>2</th>\n",
       "      <td>3</td>\n",
       "      <td>-0.2</td>\n",
       "      <td>1</td>\n",
       "      <td>3</td>\n",
       "    </tr>\n",
       "    <tr>\n",
       "      <th>3</th>\n",
       "      <td>4</td>\n",
       "      <td>-1.2</td>\n",
       "      <td>1</td>\n",
       "      <td>4</td>\n",
       "    </tr>\n",
       "    <tr>\n",
       "      <th>4</th>\n",
       "      <td>5</td>\n",
       "      <td>-0.1</td>\n",
       "      <td>1</td>\n",
       "      <td>5</td>\n",
       "    </tr>\n",
       "    <tr>\n",
       "      <th>5</th>\n",
       "      <td>6</td>\n",
       "      <td>3.4</td>\n",
       "      <td>1</td>\n",
       "      <td>6</td>\n",
       "    </tr>\n",
       "    <tr>\n",
       "      <th>6</th>\n",
       "      <td>7</td>\n",
       "      <td>3.7</td>\n",
       "      <td>1</td>\n",
       "      <td>7</td>\n",
       "    </tr>\n",
       "    <tr>\n",
       "      <th>7</th>\n",
       "      <td>8</td>\n",
       "      <td>0.8</td>\n",
       "      <td>1</td>\n",
       "      <td>8</td>\n",
       "    </tr>\n",
       "    <tr>\n",
       "      <th>8</th>\n",
       "      <td>9</td>\n",
       "      <td>0.0</td>\n",
       "      <td>1</td>\n",
       "      <td>9</td>\n",
       "    </tr>\n",
       "    <tr>\n",
       "      <th>9</th>\n",
       "      <td>10</td>\n",
       "      <td>2.0</td>\n",
       "      <td>1</td>\n",
       "      <td>10</td>\n",
       "    </tr>\n",
       "    <tr>\n",
       "      <th>10</th>\n",
       "      <td>11</td>\n",
       "      <td>1.9</td>\n",
       "      <td>2</td>\n",
       "      <td>1</td>\n",
       "    </tr>\n",
       "    <tr>\n",
       "      <th>11</th>\n",
       "      <td>12</td>\n",
       "      <td>0.8</td>\n",
       "      <td>2</td>\n",
       "      <td>2</td>\n",
       "    </tr>\n",
       "    <tr>\n",
       "      <th>12</th>\n",
       "      <td>13</td>\n",
       "      <td>1.1</td>\n",
       "      <td>2</td>\n",
       "      <td>3</td>\n",
       "    </tr>\n",
       "    <tr>\n",
       "      <th>13</th>\n",
       "      <td>14</td>\n",
       "      <td>0.1</td>\n",
       "      <td>2</td>\n",
       "      <td>4</td>\n",
       "    </tr>\n",
       "    <tr>\n",
       "      <th>14</th>\n",
       "      <td>15</td>\n",
       "      <td>-0.1</td>\n",
       "      <td>2</td>\n",
       "      <td>5</td>\n",
       "    </tr>\n",
       "    <tr>\n",
       "      <th>15</th>\n",
       "      <td>16</td>\n",
       "      <td>4.4</td>\n",
       "      <td>2</td>\n",
       "      <td>6</td>\n",
       "    </tr>\n",
       "    <tr>\n",
       "      <th>16</th>\n",
       "      <td>17</td>\n",
       "      <td>5.5</td>\n",
       "      <td>2</td>\n",
       "      <td>7</td>\n",
       "    </tr>\n",
       "    <tr>\n",
       "      <th>17</th>\n",
       "      <td>18</td>\n",
       "      <td>1.6</td>\n",
       "      <td>2</td>\n",
       "      <td>8</td>\n",
       "    </tr>\n",
       "    <tr>\n",
       "      <th>18</th>\n",
       "      <td>19</td>\n",
       "      <td>4.6</td>\n",
       "      <td>2</td>\n",
       "      <td>9</td>\n",
       "    </tr>\n",
       "    <tr>\n",
       "      <th>19</th>\n",
       "      <td>20</td>\n",
       "      <td>3.4</td>\n",
       "      <td>2</td>\n",
       "      <td>10</td>\n",
       "    </tr>\n",
       "  </tbody>\n",
       "</table>\n",
       "</div>"
      ],
      "text/plain": [
       "    Unnamed: 0  extra  group  ID\n",
       "0            1    0.7      1   1\n",
       "1            2   -1.6      1   2\n",
       "2            3   -0.2      1   3\n",
       "3            4   -1.2      1   4\n",
       "4            5   -0.1      1   5\n",
       "5            6    3.4      1   6\n",
       "6            7    3.7      1   7\n",
       "7            8    0.8      1   8\n",
       "8            9    0.0      1   9\n",
       "9           10    2.0      1  10\n",
       "10          11    1.9      2   1\n",
       "11          12    0.8      2   2\n",
       "12          13    1.1      2   3\n",
       "13          14    0.1      2   4\n",
       "14          15   -0.1      2   5\n",
       "15          16    4.4      2   6\n",
       "16          17    5.5      2   7\n",
       "17          18    1.6      2   8\n",
       "18          19    4.6      2   9\n",
       "19          20    3.4      2  10"
      ]
     },
     "execution_count": 43,
     "metadata": {},
     "output_type": "execute_result"
    }
   ],
   "source": [
    "df_sleep\n"
   ]
  },
  {
   "cell_type": "code",
   "execution_count": 60,
   "metadata": {},
   "outputs": [
    {
     "data": {
      "image/png": "[encoded data removed]",
      "text/plain": [
       "<Figure size 432x288 with 1 Axes>"
      ]
     },
     "metadata": {
      "needs_background": "light"
     },
     "output_type": "display_data"
    }
   ],
   "source": [
    "plt.scatter(x=df_sleep[\"ID\"][df_sleep[\"group\"]==1], y=group1, color='g', label=\"drug 1\")\n",
    "plt.scatter(x=df_sleep[\"ID\"][df_sleep[\"group\"]==2], y=group2, color='r', label=\"drug 2\")\n",
    "plt.xlabel(\"ID\")\n",
    "plt.ylabel(\"Exta Hours\")\n",
    "plt.legend()\n",
    "plt.show()"
   ]
  },
  {
   "cell_type": "markdown",
   "metadata": {},
   "source": [
    "Plotting a scatter plot with the extra sleep per student for each drug, shows that drug 2 provides consistently more extra sleep than drug 1, but it can also been seen that the amount of extra sleep gained is also on a individual basis."
   ]
  }
 ],
 "metadata": {
  "kernelspec": {
   "display_name": "Python 3",
   "language": "python",
   "name": "python3"
  },
  "language_info": {
   "codemirror_mode": {
    "name": "ipython",
    "version": 3
   },
   "file_extension": ".py",
   "mimetype": "text/x-python",
   "name": "python",
   "nbconvert_exporter": "python",
   "pygments_lexer": "ipython3",
   "version": "3.7.9"
  }
 },
 "nbformat": 4,
 "nbformat_minor": 4
}
