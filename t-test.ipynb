{
 "cells": [
  {
   "cell_type": "markdown",
   "metadata": {},
   "source": [
    "# t-test\n",
    "\n",
    "Replication in python of the t-test tutorial from UC Business Analytics R Programming Guide, \n",
    "\n",
    "[Tutorial Link](https://uc-r.github.io/t_test)\n",
    "\n",
    "Datasets used wihin the tutorial:\n",
    "\n",
    "1. [Midwest Dataset](https://vincentarelbundock.github.io/Rdatasets/doc/ggplot2/midwest.html) : Demographic information of midwest counties\n",
    "\n",
    "2. [Student's Sleep Data](https://vincentarelbundock.github.io/Rdatasets/doc/datasets/sleep.html) : Dataset which show the effect of two soporific drugs (increase in hours of sleep compared to control) on 10 patients."
   ]
  },
  {
   "cell_type": "code",
   "execution_count": 27,
   "metadata": {},
   "outputs": [],
   "source": [
    "import pandas as pd\n",
    "import matplotlib.pyplot as plt\n",
    "import scipy.stats as stats\n",
    "\n",
    "df_sleep = pd.read_csv(\"https://vincentarelbundock.github.io/Rdatasets/csv/datasets/sleep.csv\")\n",
    "df_midwest = pd.read_csv(\"https://vincentarelbundock.github.io/Rdatasets/csv/ggplot2/midwest.csv\")"
   ]
  },
  {
   "cell_type": "markdown",
   "metadata": {},
   "source": [
    "## One Sample t-test\n",
    "\n",
    "\"The One Sample t-test determines whether the sample mean is statistically different from a known or hypothesized population mean.\" - [One Samplet t-test](https://libguides.library.kent.edu/SPSS/OneSampletTest)\n",
    "\n",
    "In the tutorial using the midwest dataset, the percentage of college educated adults in the midwest is compared to the nation-wide average of college educated adults.\n",
    "\n",
    "In particular it is tested if the midwest average is less than the national average with a value of [32% (Bachelor's degree or higher)](https://en.wikipedia.org/wiki/Educational_attainment_in_the_United_States) . "
   ]
  },
  {
   "cell_type": "code",
   "execution_count": 20,
   "metadata": {},
   "outputs": [
    {
     "data": {
      "text/plain": [
       "count    437.000000\n",
       "mean      18.272736\n",
       "std        6.261908\n",
       "min        7.336108\n",
       "25%       14.113725\n",
       "50%       16.797562\n",
       "75%       20.549893\n",
       "max       48.078510\n",
       "Name: percollege, dtype: float64"
      ]
     },
     "execution_count": 20,
     "metadata": {},
     "output_type": "execute_result"
    }
   ],
   "source": [
    "# summary of percent college educated\n",
    "df_midwest[\"percollege\"].describe()"
   ]
  },
  {
   "cell_type": "markdown",
   "metadata": {},
   "source": [
    "From the dataset the average precentage of educated adults in the midwest is 18.27%"
   ]
  },
  {
   "cell_type": "code",
   "execution_count": 25,
   "metadata": {
    "scrolled": true
   },
   "outputs": [
    {
     "data": {
      "image/png": "[encoded data removed]",
      "text/plain": [
       "<Figure size 432x288 with 1 Axes>"
      ]
     },
     "metadata": {
      "needs_background": "light"
     },
     "output_type": "display_data"
    }
   ],
   "source": [
    "# histogram plot\n",
    "plt.hist(x=df_midwest[\"percollege\"], bins=25, facecolor='blue', ec=\"black\");\n",
    "plt.ylabel(\"counts\")\n",
    "plt.xlabel(\"percollege\");"
   ]
  },
  {
   "cell_type": "markdown",
   "metadata": {},
   "source": [
    "The histogram reflects the values displayed in the summary above and clearly shows that the percentage of educated adults is well below the 32% national average."
   ]
  },
  {
   "cell_type": "code",
   "execution_count": 32,
   "metadata": {},
   "outputs": [
    {
     "data": {
      "text/plain": [
       "Ttest_1sampResult(statistic=-45.82664051914215, pvalue=8.379166816954861e-169)"
      ]
     },
     "execution_count": 32,
     "metadata": {},
     "output_type": "execute_result"
    }
   ],
   "source": [
    "# perform one sample t-test\n",
    "stats.ttest_1samp(a=df_midwest[\"percollege\"], popmean=32)"
   ]
  },
  {
   "cell_type": "markdown",
   "metadata": {},
   "source": [
    "The one sample t-test performed above gives,\n",
    "\n",
    "t-value = 45.827\n",
    "\n",
    "p-value < 0.001"
   ]
  },
  {
   "cell_type": "code",
   "execution_count": null,
   "metadata": {},
   "outputs": [],
   "source": []
  }
 ],
 "metadata": {
  "kernelspec": {
   "display_name": "Python 3",
   "language": "python",
   "name": "python3"
  },
  "language_info": {
   "codemirror_mode": {
    "name": "ipython",
    "version": 3
   },
   "file_extension": ".py",
   "mimetype": "text/x-python",
   "name": "python",
   "nbconvert_exporter": "python",
   "pygments_lexer": "ipython3",
   "version": "3.7.9"
  }
 },
 "nbformat": 4,
 "nbformat_minor": 4
}
