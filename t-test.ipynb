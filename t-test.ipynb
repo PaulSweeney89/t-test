{
 "cells": [
  {
   "cell_type": "markdown",
   "metadata": {},
   "source": [
    "# t-test\n",
    "\n",
    "Replication in python of the t-test tutorial from UC Business Analytics R Programming Guide, \n",
    "\n",
    "[Tutorial Link](https://uc-r.github.io/t_test)\n",
    "\n",
    "Datasets used wihin the tutorial:\n",
    "\n",
    "1. [Midwest Dataset](https://vincentarelbundock.github.io/Rdatasets/doc/ggplot2/midwest.html) : Demographic information of midwest counties\n",
    "\n",
    "2. [Student's Sleep Data](https://vincentarelbundock.github.io/Rdatasets/doc/datasets/sleep.html) : Dataset which show the effect of two soporific drugs (increase in hours of sleep compared to control) on 10 patients."
   ]
  },
  {
   "cell_type": "code",
   "execution_count": 61,
   "metadata": {},
   "outputs": [],
   "source": [
    "import pandas as pd\n",
    "import matplotlib.pyplot as plt\n",
    "import scipy.stats as stats\n",
    "import numpy as np\n",
    "\n",
    "df_sleep = pd.read_csv(\"https://vincentarelbundock.github.io/Rdatasets/csv/datasets/sleep.csv\")\n",
    "df_midwest = pd.read_csv(\"https://vincentarelbundock.github.io/Rdatasets/csv/ggplot2/midwest.csv\")"
   ]
  },
  {
   "cell_type": "markdown",
   "metadata": {},
   "source": [
    "## One Sample t-test\n",
    "\n",
    "\"The One Sample t-test determines whether the sample mean is statistically different from a known or hypothesized population mean.\" - [One Samplet t-test](https://libguides.library.kent.edu/SPSS/OneSampletTest)\n",
    "\n",
    "In the tutorial using the midwest dataset, the percentage of college educated adults in the midwest is compared to the nation-wide average of college educated adults.\n",
    "\n",
    "In particular it is tested if the midwest average is less than the national average with a value of [32% (Bachelor's degree or higher)](https://en.wikipedia.org/wiki/Educational_attainment_in_the_United_States) . "
   ]
  },
  {
   "cell_type": "code",
   "execution_count": 3,
   "metadata": {},
   "outputs": [
    {
     "data": {
      "text/plain": [
       "count    437.000000\n",
       "mean      18.272736\n",
       "std        6.261908\n",
       "min        7.336108\n",
       "25%       14.113725\n",
       "50%       16.797562\n",
       "75%       20.549893\n",
       "max       48.078510\n",
       "Name: percollege, dtype: float64"
      ]
     },
     "execution_count": 3,
     "metadata": {},
     "output_type": "execute_result"
    }
   ],
   "source": [
    "# summary of percent college educated\n",
    "df_midwest[\"percollege\"].describe()"
   ]
  },
  {
   "cell_type": "markdown",
   "metadata": {},
   "source": [
    "From the dataset the average precentage of educated adults in the midwest is 18.27%"
   ]
  },
  {
   "cell_type": "code",
   "execution_count": 4,
   "metadata": {
    "scrolled": true
   },
   "outputs": [
    {
     "data": {
      "image/png": "[encoded data removed]",
      "text/plain": [
       "<Figure size 432x288 with 1 Axes>"
      ]
     },
     "metadata": {
      "needs_background": "light"
     },
     "output_type": "display_data"
    }
   ],
   "source": [
    "# histogram plot\n",
    "plt.hist(x=df_midwest[\"percollege\"], bins=25, facecolor='blue', ec=\"black\");\n",
    "plt.ylabel(\"counts\")\n",
    "plt.xlabel(\"percollege\");"
   ]
  },
  {
   "cell_type": "markdown",
   "metadata": {},
   "source": [
    "The histogram reflects the values displayed in the summary above and clearly shows that the percentage of educated adults is well below the 32% national average."
   ]
  },
  {
   "cell_type": "code",
   "execution_count": 5,
   "metadata": {},
   "outputs": [
    {
     "data": {
      "text/plain": [
       "Ttest_1sampResult(statistic=-45.82664051914215, pvalue=8.379166816954861e-169)"
      ]
     },
     "execution_count": 5,
     "metadata": {},
     "output_type": "execute_result"
    }
   ],
   "source": [
    "# perform one sample t-test\n",
    "stats.ttest_1samp(a=df_midwest[\"percollege\"], popmean=32)"
   ]
  },
  {
   "cell_type": "markdown",
   "metadata": {},
   "source": [
    "The one sample t-test performed above gives,\n",
    "\n",
    "t-statistic = 45.827\n",
    "\n",
    "p-value < 0.001"
   ]
  },
  {
   "cell_type": "markdown",
   "metadata": {},
   "source": [
    "### Interpretation of the results\n",
    "\n",
    "The two hypothesis for the t-test\n",
    "\n",
    "Null Hypothesis - **H0: µ = 32** (the sample mean equals the national mean)\n",
    "\n",
    "Alternative Hypothesis - **Ha: µ < 32** (the sample mean is less than the national mean)\n",
    "\n",
    "*p-value* of the test is much less than the 0.05 cutoff value for determining statistical significance, which corresponds to less than 5% chance of obtaining a result where the mean value of the sample is equal to the national average value.\n",
    "\n",
    "**Note:** \n",
    "The one sample t-test makes several assumptions and one in particular is that the data should be approximately normally distributed. Inspection of the histogram shows that the data is not normally distributed or perfectly symmetric but the shape is reasonably bell-shaped and I believe the assumption reasonable as real-world data are almost never perfectly normal. "
   ]
  },
  {
   "cell_type": "markdown",
   "metadata": {},
   "source": [
    "## Two-sample t-test\n",
    "\n",
    "\"The two-sample t-test is used to determine if two population means are equal\" - [Engineering Statistics Handbook](https://www.itl.nist.gov/div898/handbook/eda/section3/eda353.htm)\n",
    "\n",
    "In the tutorial, the differences between the average percent of college educated adults in Ohio versus Michigan is compared using two-sample t-test."
   ]
  },
  {
   "cell_type": "code",
   "execution_count": 31,
   "metadata": {},
   "outputs": [
    {
     "name": "stdout",
     "output_type": "stream",
     "text": [
      "count    88.000000\n",
      "mean     16.890448\n",
      "std       5.824758\n",
      "min       7.913256\n",
      "25%      13.088788\n",
      "50%      15.461650\n",
      "75%      18.994622\n",
      "max      32.204593\n",
      "Name: percollege, dtype: float64\n"
     ]
    }
   ],
   "source": [
    "# percentages of educated adults for the state of Ohino\n",
    "OH = df_midwest[\"percollege\"][df_midwest[\"state\"] == \"OH\"]\n",
    "\n",
    "# summary of the state of Ohino percentage of educated adults\n",
    "print(OH.describe())"
   ]
  },
  {
   "cell_type": "markdown",
   "metadata": {},
   "source": [
    "From the dataset the average precentage of educated adults in the state of Ohino is 16.89%"
   ]
  },
  {
   "cell_type": "code",
   "execution_count": 32,
   "metadata": {},
   "outputs": [
    {
     "name": "stdout",
     "output_type": "stream",
     "text": [
      "count    83.000000\n",
      "mean     19.421456\n",
      "std       6.851103\n",
      "min      11.313438\n",
      "25%      14.611892\n",
      "50%      17.429610\n",
      "75%      21.313320\n",
      "max      48.078510\n",
      "Name: percollege, dtype: float64\n"
     ]
    }
   ],
   "source": [
    "# percentages of educated adults for the state of Michigan\n",
    "MI = df_midwest[\"percollege\"][df_midwest[\"state\"] == \"MI\"]\n",
    "\n",
    "# summary of the state of Michigan percentage of educated adults\n",
    "print(MI.describe())"
   ]
  },
  {
   "cell_type": "markdown",
   "metadata": {},
   "source": [
    "From the dataset the average precentage of educated adults in the state of Michigan is 19.42%\n",
    "\n",
    "The mean value for the state of Michigan is slightly larger than the mean for the state of Ohino\n",
    "\n",
    "Note: there are more counts in the Ohino data then there are in the Michigan data."
   ]
  },
  {
   "cell_type": "code",
   "execution_count": 57,
   "metadata": {},
   "outputs": [
    {
     "data": {
      "image/png": "[encoded data removed]",
      "text/plain": [
       "<Figure size 432x288 with 2 Axes>"
      ]
     },
     "metadata": {
      "needs_background": "light"
     },
     "output_type": "display_data"
    }
   ],
   "source": [
    "# histogram plot\n",
    "fig, ((ax1, ax2)) = plt.subplots(1, 2, sharey=True)\n",
    "fig.suptitle(\"Ohino & Michigan Percentages of Educated Adults\")\n",
    "ax1.hist(x=OH, bins=25, facecolor='green', ec=\"black\");\n",
    "ax2.hist(x=MI, bins=25, facecolor='red', ec=\"black\");\n",
    "ax1.set(ylabel=\"count\");"
   ]
  },
  {
   "cell_type": "markdown",
   "metadata": {},
   "source": [
    "From the histogram it is difficult to distinguish or identify the exact difference in means between the two states."
   ]
  },
  {
   "cell_type": "code",
   "execution_count": 70,
   "metadata": {},
   "outputs": [
    {
     "name": "stdout",
     "output_type": "stream",
     "text": [
      "33.542259069907566 46.37210006335986\n",
      "1.3824978206361356 < 4 population variances are equal\n"
     ]
    }
   ],
   "source": [
    "#find variance for each group\n",
    "var_OH = np.var(OH)\n",
    "var_MI = np.var(MI)\n",
    "\n",
    "print(var_OH, var_MI)\n",
    "\n",
    "# check if two groups have equal variances\n",
    "if (var_MI / var_OH) < 4:\n",
    "    print(var_MI / var_OH, \"< 4 population variances are equal\")\n",
    "else:\n",
    "    print(var_MI / var_OH, \"> 4 population variances are not equal\")"
   ]
  },
  {
   "cell_type": "code",
   "execution_count": 74,
   "metadata": {
    "scrolled": true
   },
   "outputs": [
    {
     "data": {
      "text/plain": [
       "Ttest_indResult(statistic=-2.60762654763255, pvalue=0.009933096837482136)"
      ]
     },
     "execution_count": 74,
     "metadata": {},
     "output_type": "execute_result"
    }
   ],
   "source": [
    "# perform two sample t-test on the two independent samples\n",
    "stats.ttest_ind(OH, MI, equal_var=True)"
   ]
  },
  {
   "cell_type": "markdown",
   "metadata": {},
   "source": [
    "The two sample t-test performed above gives,\n",
    "\n",
    "t-statistic = -2.608\n",
    "\n",
    "p-value < 0.0099"
   ]
  },
  {
   "cell_type": "markdown",
   "metadata": {},
   "source": [
    "### Interpretation of the results"
   ]
  },
  {
   "cell_type": "code",
   "execution_count": null,
   "metadata": {},
   "outputs": [],
   "source": []
  }
 ],
 "metadata": {
  "kernelspec": {
   "display_name": "Python 3",
   "language": "python",
   "name": "python3"
  },
  "language_info": {
   "codemirror_mode": {
    "name": "ipython",
    "version": 3
   },
   "file_extension": ".py",
   "mimetype": "text/x-python",
   "name": "python",
   "nbconvert_exporter": "python",
   "pygments_lexer": "ipython3",
   "version": "3.7.9"
  }
 },
 "nbformat": 4,
 "nbformat_minor": 4
}
